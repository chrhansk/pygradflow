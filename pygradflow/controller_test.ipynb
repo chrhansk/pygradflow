{
 "cells": [
  {
   "cell_type": "code",
   "execution_count": 1,
   "metadata": {},
   "outputs": [],
   "source": [
    "import numpy as np"
   ]
  },
  {
   "cell_type": "code",
   "execution_count": 2,
   "metadata": {},
   "outputs": [],
   "source": [
    "K_P = 0.2\n",
    "K_I = 0.005\n",
    "\n",
    "def controller_output(ref_val, cur_val, error_sum):\n",
    "    error = ref_val - cur_val\n",
    "    control = K_P * error + K_I * error_sum\n",
    "    error_sum += error\n",
    "    return control, error_sum"
   ]
  },
  {
   "cell_type": "code",
   "execution_count": 3,
   "metadata": {},
   "outputs": [],
   "source": [
    "ref_val = 0.\n",
    "\n",
    "# discrete time version of dot(x) = u\n",
    "def dynamic_update(x, u):\n",
    "    return x + u"
   ]
  },
  {
   "cell_type": "code",
   "execution_count": 5,
   "metadata": {},
   "outputs": [
    {
     "ename": "NameError",
     "evalue": "name 'lamb' is not defined",
     "output_type": "error",
     "traceback": [
      "\u001b[0;31m---------------------------------------------------------------------------\u001b[0m",
      "\u001b[0;31mNameError\u001b[0m                                 Traceback (most recent call last)",
      "Cell \u001b[0;32mIn[5], line 5\u001b[0m\n\u001b[1;32m      2\u001b[0m error_sum \u001b[39m=\u001b[39m \u001b[39m0.0\u001b[39m\n\u001b[1;32m      4\u001b[0m vals \u001b[39m=\u001b[39m [cur_val]\n\u001b[0;32m----> 5\u001b[0m controls \u001b[39m=\u001b[39m [lamb]\n\u001b[1;32m      7\u001b[0m \u001b[39mfor\u001b[39;00m i \u001b[39min\u001b[39;00m \u001b[39mrange\u001b[39m(\u001b[39m100\u001b[39m):\n\u001b[1;32m      8\u001b[0m     (control, error_sum) \u001b[39m=\u001b[39m controller_output(ref_val, cur_val, error_sum)\n",
      "\u001b[0;31mNameError\u001b[0m: name 'lamb' is not defined"
     ]
    }
   ],
   "source": [
    "cur_val = 1.0\n",
    "error_sum = 0.0\n",
    "\n",
    "vals = [cur_val]\n",
    "controls = [lamb]\n",
    "\n",
    "for i in range(100):\n",
    "    (control, error_sum) = controller_output(ref_val, cur_val, error_sum)\n",
    "    cur_val = dynamic_update(cur_val, control)\n",
    "    vals.append(cur_val)\n",
    "    controls.append(control)\n"
   ]
  },
  {
   "cell_type": "code",
   "execution_count": null,
   "metadata": {},
   "outputs": [],
   "source": [
    "import matplotlib.pyplot as plt\n",
    "\n"
   ]
  }
 ],
 "metadata": {
  "kernelspec": {
   "display_name": "Python 3",
   "language": "python",
   "name": "python3"
  },
  "language_info": {
   "codemirror_mode": {
    "name": "ipython",
    "version": 3
   },
   "file_extension": ".py",
   "mimetype": "text/x-python",
   "name": "python",
   "nbconvert_exporter": "python",
   "pygments_lexer": "ipython3",
   "version": "3.9.6"
  },
  "orig_nbformat": 4
 },
 "nbformat": 4,
 "nbformat_minor": 2
}
